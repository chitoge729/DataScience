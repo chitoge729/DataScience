{
  "nbformat": 4,
  "nbformat_minor": 0,
  "metadata": {
    "colab": {
      "provenance": []
    },
    "kernelspec": {
      "name": "python3",
      "display_name": "Python 3"
    },
    "language_info": {
      "name": "python"
    }
  },
  "cells": [
    {
      "cell_type": "code",
      "execution_count": 5,
      "metadata": {
        "colab": {
          "base_uri": "https://localhost:8080/"
        },
        "id": "3h1oKvymmgmy",
        "outputId": "68280ed4-25fd-4053-b360-c8346504d1ca"
      },
      "outputs": [
        {
          "output_type": "stream",
          "name": "stdout",
          "text": [
            "[1, 13.6, 'hi', 12, 1]\n"
          ]
        },
        {
          "output_type": "execute_result",
          "data": {
            "text/plain": [
              "list"
            ]
          },
          "metadata": {},
          "execution_count": 5
        }
      ],
      "source": [
        "sample_list=[1,13.6,\"hi\",12,1]\n",
        "print(sample_list)\n",
        "type(sample_list)"
      ]
    },
    {
      "cell_type": "code",
      "source": [
        "sample_list=[1,13.6,\"hi\",12,1]\n",
        "print(sample_list[1])"
      ],
      "metadata": {
        "colab": {
          "base_uri": "https://localhost:8080/"
        },
        "id": "OVoX2-69nGDb",
        "outputId": "922f2062-a912-482b-a960-10e57f7594cd"
      },
      "execution_count": null,
      "outputs": [
        {
          "output_type": "stream",
          "name": "stdout",
          "text": [
            "13.6\n"
          ]
        }
      ]
    },
    {
      "cell_type": "code",
      "source": [
        "sample_list[0]=234\n",
        "print(sample_list)"
      ],
      "metadata": {
        "colab": {
          "base_uri": "https://localhost:8080/"
        },
        "id": "ubAGm8FXnOvD",
        "outputId": "cebe062b-2afb-49df-bf67-075d5f26a55c"
      },
      "execution_count": null,
      "outputs": [
        {
          "output_type": "stream",
          "name": "stdout",
          "text": [
            "[234, 13.6, 'hi', 12, 1]\n"
          ]
        }
      ]
    },
    {
      "cell_type": "code",
      "source": [
        "print(sample_list[-4])"
      ],
      "metadata": {
        "colab": {
          "base_uri": "https://localhost:8080/"
        },
        "id": "bAHrGnj0qwJY",
        "outputId": "c8298120-5f86-42ad-9fed-57b34349ebb6"
      },
      "execution_count": null,
      "outputs": [
        {
          "output_type": "stream",
          "name": "stdout",
          "text": [
            "13.6\n"
          ]
        }
      ]
    },
    {
      "cell_type": "code",
      "source": [
        "sample_tuple=(23,45,67,\"hello\",56.56)\n",
        "print(sample_tuple)\n",
        "type(sample_tuple)"
      ],
      "metadata": {
        "colab": {
          "base_uri": "https://localhost:8080/"
        },
        "id": "82lLN9Nvq1-Y",
        "outputId": "7982e9b3-1cfb-489f-b18f-4dffe4f2c039"
      },
      "execution_count": 4,
      "outputs": [
        {
          "output_type": "stream",
          "name": "stdout",
          "text": [
            "(23, 45, 67, 'hello', 56.56)\n"
          ]
        },
        {
          "output_type": "execute_result",
          "data": {
            "text/plain": [
              "tuple"
            ]
          },
          "metadata": {},
          "execution_count": 4
        }
      ]
    },
    {
      "cell_type": "code",
      "source": [
        "sample_tuple[2]"
      ],
      "metadata": {
        "colab": {
          "base_uri": "https://localhost:8080/"
        },
        "id": "7XlglnNN8SdU",
        "outputId": "2cc986e3-d87f-47f9-8fb8-5f2512465be7"
      },
      "execution_count": null,
      "outputs": [
        {
          "output_type": "execute_result",
          "data": {
            "text/plain": [
              "67"
            ]
          },
          "metadata": {},
          "execution_count": 8
        }
      ]
    },
    {
      "cell_type": "code",
      "source": [
        "sample_set={23, \"write\", 45.66, \"read\", 12, 2.04}\n",
        "print(sample_set)"
      ],
      "metadata": {
        "id": "DTLdF96_8YkP",
        "colab": {
          "base_uri": "https://localhost:8080/"
        },
        "outputId": "80c55447-b1ce-46d3-c95c-515daee36a78"
      },
      "execution_count": 1,
      "outputs": [
        {
          "output_type": "stream",
          "name": "stdout",
          "text": [
            "{'read', 2.04, 12, 45.66, 'write', 23}\n"
          ]
        }
      ]
    },
    {
      "cell_type": "code",
      "source": [
        "sample_set.add(\"woohoo\")"
      ],
      "metadata": {
        "id": "VjPaB6--yR3i"
      },
      "execution_count": 2,
      "outputs": []
    },
    {
      "cell_type": "code",
      "source": [
        "type(sample_set)"
      ],
      "metadata": {
        "colab": {
          "base_uri": "https://localhost:8080/"
        },
        "id": "T4veNAqoykP4",
        "outputId": "56566591-2f22-418b-f706-a123b3b7b1d8"
      },
      "execution_count": 3,
      "outputs": [
        {
          "output_type": "execute_result",
          "data": {
            "text/plain": [
              "set"
            ]
          },
          "metadata": {},
          "execution_count": 3
        }
      ]
    },
    {
      "cell_type": "code",
      "source": [
        "sample_set.remove(12)"
      ],
      "metadata": {
        "id": "EZxm0DJ3yoQE"
      },
      "execution_count": 6,
      "outputs": []
    },
    {
      "cell_type": "code",
      "source": [
        "sample_dict={1: \"Annyeonghaseyo\", 2: 95.78, 3: \"Hajimemashite\", 4: 44, 5: \"Hello\", 6: 77}\n",
        "print(sample_dict)"
      ],
      "metadata": {
        "colab": {
          "base_uri": "https://localhost:8080/"
        },
        "id": "d5hrwd9Fy3SN",
        "outputId": "6eb222d5-e5e8-46c8-b02a-e1fda0d06f36"
      },
      "execution_count": 17,
      "outputs": [
        {
          "output_type": "stream",
          "name": "stdout",
          "text": [
            "{1: 'Annyeonghaseyo', 2: 10.03, 3: 'Hajimemashite', 4: 44, 5: 'Hello', 6: 77}\n"
          ]
        }
      ]
    },
    {
      "cell_type": "code",
      "source": [
        "type(sample_dict)"
      ],
      "metadata": {
        "colab": {
          "base_uri": "https://localhost:8080/"
        },
        "id": "5b4udZUzzZ2Z",
        "outputId": "c6d03652-5c5c-49f1-d45b-b0293e273c93"
      },
      "execution_count": 18,
      "outputs": [
        {
          "output_type": "execute_result",
          "data": {
            "text/plain": [
              "dict"
            ]
          },
          "metadata": {},
          "execution_count": 18
        }
      ]
    },
    {
      "cell_type": "code",
      "source": [
        "sample_dict[2]=10.03"
      ],
      "metadata": {
        "id": "BtuGXDuD0-4g"
      },
      "execution_count": 19,
      "outputs": []
    },
    {
      "cell_type": "code",
      "source": [],
      "metadata": {
        "id": "WIApNj2j1Bqn"
      },
      "execution_count": null,
      "outputs": []
    }
  ]
}